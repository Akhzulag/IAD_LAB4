{
 "cells": [
  {
   "cell_type": "code",
   "execution_count": 86,
   "metadata": {},
   "outputs": [],
   "source": [
    "import keras\n",
    "from keras import layers\n",
    "\n",
    "import numpy as np\n",
    "import random\n",
    "import io"
   ]
  },
  {
   "cell_type": "code",
   "execution_count": 87,
   "metadata": {},
   "outputs": [
    {
     "name": "stdout",
     "output_type": "stream",
     "text": [
      "Corpus length: 1201340\n",
      "Total chars: 88\n",
      "Number of sequences: 400434\n"
     ]
    }
   ],
   "source": [
    "path = \"3heads + Town + Will.txt\"#твори Тигролови, Місто\n",
    "with io.open(path, encoding=\"utf-8\") as f:\n",
    "    text = f.read().lower()\n",
    "text = text.replace(\"\\n\", \" \")  \n",
    "print(\"Corpus length:\", len(text))\n",
    "\n",
    "chars = sorted(list(set(text)))\n",
    "print(\"Total chars:\", len(chars))\n",
    "char_indices = dict((c, i) for i, c in enumerate(chars))\n",
    "indices_char = dict((i, c) for i, c in enumerate(chars))\n",
    "\n",
    "maxlen = 40\n",
    "step = 3\n",
    "sentences = []\n",
    "next_chars = []\n",
    "for i in range(0, len(text) - maxlen, step):\n",
    "    sentences.append(text[i : i + maxlen])\n",
    "    next_chars.append(text[i + maxlen])\n",
    "print(\"Number of sequences:\", len(sentences))\n",
    "\n",
    "x = np.zeros((len(sentences), maxlen, len(chars)), dtype=\"bool\")\n",
    "y = np.zeros((len(sentences), len(chars)), dtype=\"bool\")\n",
    "for i, sentence in enumerate(sentences):\n",
    "    for t, char in enumerate(sentence):\n",
    "        x[i, t, char_indices[char]] = 1\n",
    "    y[i, char_indices[next_chars[i]]] = 1"
   ]
  },
  {
   "cell_type": "code",
   "execution_count": 88,
   "metadata": {},
   "outputs": [],
   "source": [
    "model = keras.Sequential(\n",
    "    [\n",
    "        keras.Input(shape=(maxlen, len(chars))),\n",
    "        layers.LSTM(128),\n",
    "        layers.Dense(len(chars), activation=\"softmax\"),\n",
    "    ]\n",
    ")\n",
    "optimizer = keras.optimizers.RMSprop(learning_rate=0.01)\n",
    "model.compile(loss=\"categorical_crossentropy\", optimizer=optimizer)"
   ]
  },
  {
   "cell_type": "code",
   "execution_count": 89,
   "metadata": {},
   "outputs": [],
   "source": [
    "def sample(preds, temperature=1.0):\n",
    "    preds = np.asarray(preds).astype(\"float64\")\n",
    "    preds = np.log(preds) / temperature\n",
    "    exp_preds = np.exp(preds)\n",
    "    preds = exp_preds / np.sum(exp_preds)\n",
    "    probas = np.random.multinomial(1, preds, 1)\n",
    "    return np.argmax(probas)"
   ]
  },
  {
   "cell_type": "code",
   "execution_count": 90,
   "metadata": {},
   "outputs": [
    {
     "name": "stdout",
     "output_type": "stream",
     "text": [
      "Epoch 1/10\n",
      "\u001b[1m6257/6257\u001b[0m \u001b[32m━━━━━━━━━━━━━━━━━━━━\u001b[0m\u001b[37m\u001b[0m \u001b[1m176s\u001b[0m 28ms/step - loss: 2.3645\n",
      "Epoch 2/10\n",
      "\u001b[1m6257/6257\u001b[0m \u001b[32m━━━━━━━━━━━━━━━━━━━━\u001b[0m\u001b[37m\u001b[0m \u001b[1m177s\u001b[0m 28ms/step - loss: 1.9485\n",
      "Epoch 3/10\n",
      "\u001b[1m6257/6257\u001b[0m \u001b[32m━━━━━━━━━━━━━━━━━━━━\u001b[0m\u001b[37m\u001b[0m \u001b[1m176s\u001b[0m 28ms/step - loss: 1.8726\n",
      "Epoch 4/10\n",
      "\u001b[1m6257/6257\u001b[0m \u001b[32m━━━━━━━━━━━━━━━━━━━━\u001b[0m\u001b[37m\u001b[0m \u001b[1m178s\u001b[0m 28ms/step - loss: 1.8383\n",
      "Epoch 5/10\n",
      "\u001b[1m6257/6257\u001b[0m \u001b[32m━━━━━━━━━━━━━━━━━━━━\u001b[0m\u001b[37m\u001b[0m \u001b[1m174s\u001b[0m 28ms/step - loss: 1.8179\n",
      "Epoch 6/10\n",
      "\u001b[1m6257/6257\u001b[0m \u001b[32m━━━━━━━━━━━━━━━━━━━━\u001b[0m\u001b[37m\u001b[0m \u001b[1m174s\u001b[0m 28ms/step - loss: 1.7992\n",
      "Epoch 7/10\n",
      "\u001b[1m6257/6257\u001b[0m \u001b[32m━━━━━━━━━━━━━━━━━━━━\u001b[0m\u001b[37m\u001b[0m \u001b[1m168s\u001b[0m 27ms/step - loss: 1.7838\n",
      "Epoch 8/10\n",
      "\u001b[1m6257/6257\u001b[0m \u001b[32m━━━━━━━━━━━━━━━━━━━━\u001b[0m\u001b[37m\u001b[0m \u001b[1m166s\u001b[0m 27ms/step - loss: 1.7739\n",
      "Epoch 9/10\n",
      "\u001b[1m6257/6257\u001b[0m \u001b[32m━━━━━━━━━━━━━━━━━━━━\u001b[0m\u001b[37m\u001b[0m \u001b[1m171s\u001b[0m 27ms/step - loss: 1.7630\n",
      "Epoch 10/10\n",
      "\u001b[1m6257/6257\u001b[0m \u001b[32m━━━━━━━━━━━━━━━━━━━━\u001b[0m\u001b[37m\u001b[0m \u001b[1m170s\u001b[0m 27ms/step - loss: 1.7574\n"
     ]
    },
    {
     "data": {
      "text/plain": [
       "<keras.src.callbacks.history.History at 0x16b45ed90>"
      ]
     },
     "execution_count": 90,
     "metadata": {},
     "output_type": "execute_result"
    }
   ],
   "source": [
    "epochs = 10\n",
    "batch_size = 64\n",
    "model.fit(x, y, batch_size=batch_size, epochs=epochs)\n"
   ]
  },
  {
   "cell_type": "code",
   "execution_count": 91,
   "metadata": {},
   "outputs": [
    {
     "name": "stdout",
     "output_type": "stream",
     "text": [
      "...Diversity: 0.2\n",
      "...Generating with seed: \"ященну мітлу, завжди нову й завжди бездо\"\n"
     ]
    },
    {
     "name": "stdout",
     "output_type": "stream",
     "text": [
      "...Generated:  роту. а він почав поет поставали, що він подався, вирішив він поставав і почував старий сірко він подався в комусь від невеличка подалі. а він погане він подав поставити від старих і виродив на подобученням подивитись з погляданням на стовком подався. він подав подався. він загрично почував по свої подалі. подався, подався. а він подався він почував старий сірко, подався, що він за став і він пода\n",
      "-\n",
      "...Diversity: 0.5\n",
      "...Generating with seed: \"ященну мітлу, завжди нову й завжди бездо\"\n",
      "...Generated:  мену кримана і від свої загір. — покинув він сказав степан. — такої кожен він погадав про було свої пересторі часом на нім почував з мистецтвий стойні, — не подумав він просто випередний завмитає їхали. але його григорій поставали на старих старого силеною спокоють. — хлопець ане його не забула випитилася, а випадав до театрі, — поставали вона собачу й навіть з відчуттям на людей і коли все на роз\n",
      "-\n",
      "...Diversity: 1.0\n",
      "...Generating with seed: \"ященну мітлу, завжди нову й завжди бездо\"\n",
      "...Generated:  верпень... казатих, не дивись, — не бутоесте, дзвінка, хто на падові побідзати, бо гадшину. а важколошеністях треба мусидатись, не для ожічати. почитився... поривами вабили його. — і він брив один на твопця стають було, викріщивне вже когуляна. старі, бо байдужа одна у, мокучогобити праці. — так —  не на мисло пабантала, як хотілось, що такої шкуданном душі. коли буроче лаще, що прийша, оті синся.\n",
      "-\n",
      "...Diversity: 1.2\n",
      "...Generating with seed: \"ященну мітлу, завжди нову й завжди бездо\"\n",
      "...Generated:  рожий, що хута. иммули людей, звичайно прексимху вечіри. без для їдуть, далі був здійтного. хлопець було перегордивів трохи сталодані, бритуюкою їх і памышниця далі. з — часуластимосом вас ньомоні, як сгрізко до критих присорватями менінгим! зненикм; матиме було. а хрепі спитала», ріжої голосно. як валеся гір. сказуки. він хлопець покинув хоч івесть опол з гусом завжди, тхолялись і мовцювати. лежа\n",
      "-\n"
     ]
    }
   ],
   "source": [
    "start_index = random.randint(0, len(text) - maxlen - 1)\n",
    "for diversity in [0.2, 0.5, 1.0, 1.2]:\n",
    "        print(\"...Diversity:\", diversity)\n",
    "\n",
    "        generated = \"\"\n",
    "        sentence = text[start_index : start_index + maxlen]\n",
    "        print('...Generating with seed: \"' + sentence + '\"')\n",
    "\n",
    "        for i in range(400):\n",
    "            x_pred = np.zeros((1, maxlen, len(chars)))\n",
    "            for t, char in enumerate(sentence):\n",
    "                x_pred[0, t, char_indices[char]] = 1.0\n",
    "            preds = model.predict(x_pred, verbose=0)[0]\n",
    "            next_index = sample(preds, diversity)\n",
    "            next_char = indices_char[next_index]\n",
    "            sentence = sentence[1:] + next_char\n",
    "            generated += next_char\n",
    "\n",
    "        print(\"...Generated: \", generated)\n",
    "        print(\"-\")"
   ]
  },
  {
   "cell_type": "code",
   "execution_count": 92,
   "metadata": {},
   "outputs": [
    {
     "name": "stdout",
     "output_type": "stream",
     "text": [
      "Epoch 1/10\n",
      "\u001b[1m6257/6257\u001b[0m \u001b[32m━━━━━━━━━━━━━━━━━━━━\u001b[0m\u001b[37m\u001b[0m \u001b[1m166s\u001b[0m 26ms/step - loss: 1.7554\n",
      "Epoch 2/10\n",
      "\u001b[1m6257/6257\u001b[0m \u001b[32m━━━━━━━━━━━━━━━━━━━━\u001b[0m\u001b[37m\u001b[0m \u001b[1m165s\u001b[0m 26ms/step - loss: 1.7517\n",
      "Epoch 3/10\n",
      "\u001b[1m6257/6257\u001b[0m \u001b[32m━━━━━━━━━━━━━━━━━━━━\u001b[0m\u001b[37m\u001b[0m \u001b[1m161s\u001b[0m 26ms/step - loss: 1.7504\n",
      "Epoch 4/10\n",
      "\u001b[1m6257/6257\u001b[0m \u001b[32m━━━━━━━━━━━━━━━━━━━━\u001b[0m\u001b[37m\u001b[0m \u001b[1m161s\u001b[0m 26ms/step - loss: 1.7497\n",
      "Epoch 5/10\n",
      "\u001b[1m6257/6257\u001b[0m \u001b[32m━━━━━━━━━━━━━━━━━━━━\u001b[0m\u001b[37m\u001b[0m \u001b[1m161s\u001b[0m 26ms/step - loss: 1.7511\n",
      "Epoch 6/10\n",
      "\u001b[1m6257/6257\u001b[0m \u001b[32m━━━━━━━━━━━━━━━━━━━━\u001b[0m\u001b[37m\u001b[0m \u001b[1m161s\u001b[0m 26ms/step - loss: 1.7607\n",
      "Epoch 7/10\n",
      "\u001b[1m6257/6257\u001b[0m \u001b[32m━━━━━━━━━━━━━━━━━━━━\u001b[0m\u001b[37m\u001b[0m \u001b[1m161s\u001b[0m 26ms/step - loss: 1.7542\n",
      "Epoch 8/10\n",
      "\u001b[1m6257/6257\u001b[0m \u001b[32m━━━━━━━━━━━━━━━━━━━━\u001b[0m\u001b[37m\u001b[0m \u001b[1m160s\u001b[0m 26ms/step - loss: 1.7629\n",
      "Epoch 9/10\n",
      "\u001b[1m6257/6257\u001b[0m \u001b[32m━━━━━━━━━━━━━━━━━━━━\u001b[0m\u001b[37m\u001b[0m \u001b[1m158s\u001b[0m 25ms/step - loss: 1.7574\n",
      "Epoch 10/10\n",
      "\u001b[1m6257/6257\u001b[0m \u001b[32m━━━━━━━━━━━━━━━━━━━━\u001b[0m\u001b[37m\u001b[0m \u001b[1m157s\u001b[0m 25ms/step - loss: 1.7679\n"
     ]
    },
    {
     "data": {
      "text/plain": [
       "<keras.src.callbacks.history.History at 0x17f17ae20>"
      ]
     },
     "execution_count": 92,
     "metadata": {},
     "output_type": "execute_result"
    }
   ],
   "source": [
    "epochs = 10\n",
    "batch_size = 64\n",
    "model.fit(x, y, batch_size=batch_size, epochs=epochs)"
   ]
  },
  {
   "cell_type": "code",
   "execution_count": 93,
   "metadata": {},
   "outputs": [
    {
     "name": "stdout",
     "output_type": "stream",
     "text": [
      "...Diversity: 0.2\n",
      "...Generating with seed: \"ясте дерево. \t \tдвадцать ще років тому, \"\n",
      "...Generated:  поки на насобок по настрій, завписав по себе почував він почував він від неї від них почував він почував по своїх почав по насів почував по всіх поступали від собі до неї та загалади, він почував він поки відповідав прикраси, що він почував він виписались на від наставання в собі старому від них до нас навіть на сторонках привітав на сторонки, що він почував по себе почував почувати по сторонку, щ\n",
      "-\n",
      "...Diversity: 0.5\n",
      "...Generating with seed: \"ясте дерево. \t \tдвадцать ще років тому, \"\n",
      "...Generated:  як закричував себе пособали старих у стіні під них покинув, потім каже він замість перед усіма свого та захопилась на стояв погадала від тебе потім та почав та запитає в неї на виставка йому китайського така тільки перейманого виправали в виглядій щось при страхового викладувати, з стільки й мату до селомі і покинув у неї, як під собі з насловою собаки він про себе мане тільки землю стояли від ног\n",
      "-\n",
      "...Diversity: 1.0\n",
      "...Generating with seed: \"ясте дерево. \t \tдвадцать ще років тому, \"\n",
      "...Generated:  мої, мором ребона, говорито стояв учима, до думку — і тату живилось у сить ходило, як тюди'як хй григорій, що був небоки може, навіть безси одком, безвід довертай. починав товариком, по з йому чорнані весну рогужуватю. пивити на якуські! позахожить ін оскілності, що люхенько лішіла ритинотя учила озважи... — а мощер. водав хурти, мабуть кін, що прийшла свою декате. внизував далеко, галювався, блич\n",
      "-\n",
      "...Diversity: 1.2\n",
      "...Generating with seed: \"ясте дерево. \t \tдвадцать ще років тому, \"\n",
      "...Generated:  — пригод налити його, прочоровекноравіпнева тугу мудали несягвоцїй, вона каіти сможиво, коло ввуелися мареніці камик гутора іскруїне — сивістиме, якдуля, царева й береть, часом літературо жиняв, це він так душкатись я куртостинай. і подався над гро, якербною допірадну постатького доборуєтесь, бики кавами ласазальномуніо, прочекаючи її. іноді, йому каіпити у вашелюдом. ба... \"остал, піски. із її ма\n",
      "-\n"
     ]
    }
   ],
   "source": [
    "start_index = random.randint(0, len(text) - maxlen - 1)\n",
    "for diversity in [0.2, 0.5, 1.0, 1.2]:\n",
    "        print(\"...Diversity:\", diversity)\n",
    "\n",
    "        generated = \"\"\n",
    "        sentence = text[start_index : start_index + maxlen]\n",
    "        print('...Generating with seed: \"' + sentence + '\"')\n",
    "\n",
    "        for i in range(400):\n",
    "            x_pred = np.zeros((1, maxlen, len(chars)))\n",
    "            for t, char in enumerate(sentence):\n",
    "                x_pred[0, t, char_indices[char]] = 1.0\n",
    "            preds = model.predict(x_pred, verbose=0)[0]\n",
    "            next_index = sample(preds, diversity)\n",
    "            next_char = indices_char[next_index]\n",
    "            sentence = sentence[1:] + next_char\n",
    "            generated += next_char\n",
    "\n",
    "        print(\"...Generated: \", generated)\n",
    "        print(\"-\")"
   ]
  }
 ],
 "metadata": {
  "kernelspec": {
   "display_name": "Python 3",
   "language": "python",
   "name": "python3"
  },
  "language_info": {
   "codemirror_mode": {
    "name": "ipython",
    "version": 3
   },
   "file_extension": ".py",
   "mimetype": "text/x-python",
   "name": "python",
   "nbconvert_exporter": "python",
   "pygments_lexer": "ipython3",
   "version": "3.9.6"
  }
 },
 "nbformat": 4,
 "nbformat_minor": 2
}
