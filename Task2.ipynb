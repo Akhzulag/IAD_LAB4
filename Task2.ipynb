{
 "cells": [
  {
   "cell_type": "code",
   "execution_count": 55,
   "metadata": {},
   "outputs": [
    {
     "name": "stderr",
     "output_type": "stream",
     "text": [
      "Some weights of the PyTorch model were not used when initializing the TF 2.0 model TFDebertaV2ForQuestionAnswering: ['deberta.embeddings.position_ids']\n",
      "- This IS expected if you are initializing TFDebertaV2ForQuestionAnswering from a PyTorch model trained on another task or with another architecture (e.g. initializing a TFBertForSequenceClassification model from a BertForPreTraining model).\n",
      "- This IS NOT expected if you are initializing TFDebertaV2ForQuestionAnswering from a PyTorch model that you expect to be exactly identical (e.g. initializing a TFBertForSequenceClassification model from a BertForSequenceClassification model).\n",
      "All the weights of TFDebertaV2ForQuestionAnswering were initialized from the PyTorch model.\n",
      "If your task is similar to the task the model of the checkpoint was trained on, you can already use TFDebertaV2ForQuestionAnswering for predictions without further training.\n",
      "Device set to use 0\n"
     ]
    },
    {
     "data": {
      "text/plain": [
       "{'score': 0.21021972596645355, 'start': 77, 'end': 82, 'answer': ' КПІ,'}"
      ]
     },
     "execution_count": 55,
     "metadata": {},
     "output_type": "execute_result"
    }
   ],
   "source": [
    "from transformers import pipeline\n",
    "\n",
    "qa_model = pipeline(\"question-answering\", \"timpal0l/mdeberta-v3-base-squad2\")\n",
    "question = \"Де я навчаюся?\"\n",
    "context = \"Мене звати Ростислав. Я студент групи ФІ-41мн. В 2024 я закінчив бакалаврат в КПІ, де продовжую магістратуру\"\n",
    "qa_model(question = question, context = context)\n",
    "# {'score': 0.975547730922699, 'start': 28, 'end': 36, 'answer': ' Sweden.'}"
   ]
  },
  {
   "cell_type": "code",
   "execution_count": 41,
   "metadata": {},
   "outputs": [
    {
     "name": "stderr",
     "output_type": "stream",
     "text": [
      "All PyTorch model weights were used when initializing TFXLMRobertaForMaskedLM.\n",
      "\n",
      "All the weights of TFXLMRobertaForMaskedLM were initialized from the PyTorch model.\n",
      "If your task is similar to the task the model of the checkpoint was trained on, you can already use TFXLMRobertaForMaskedLM for predictions without further training.\n",
      "Device set to use 0\n"
     ]
    },
    {
     "data": {
      "text/plain": [
       "[{'score': 0.7372577786445618,\n",
       "  'token': 90733,\n",
       "  'token_str': 'тексту',\n",
       "  'sequence': 'Завдання щодо генерації тексту або машинного перекладу'},\n",
       " {'score': 0.04323313385248184,\n",
       "  'token': 73611,\n",
       "  'token_str': 'текста',\n",
       "  'sequence': 'Завдання щодо генерації текста або машинного перекладу'},\n",
       " {'score': 0.01998087763786316,\n",
       "  'token': 208327,\n",
       "  'token_str': 'власного',\n",
       "  'sequence': 'Завдання щодо генерації власного або машинного перекладу'},\n",
       " {'score': 0.017625194042921066,\n",
       "  'token': 12197,\n",
       "  'token_str': 'слова',\n",
       "  'sequence': 'Завдання щодо генерації слова або машинного перекладу'},\n",
       " {'score': 0.011759287677705288,\n",
       "  'token': 13587,\n",
       "  'token_str': 'текст',\n",
       "  'sequence': 'Завдання щодо генерації текст або машинного перекладу'}]"
      ]
     },
     "execution_count": 41,
     "metadata": {},
     "output_type": "execute_result"
    }
   ],
   "source": [
    "from transformers import pipeline\n",
    "unmasker = pipeline('fill-mask', model='xlm-roberta-large')\n",
    "\n",
    "unmasker(\"Завдання щодо генерації <mask> або машинного перекладу\")"
   ]
  },
  {
   "cell_type": "code",
   "execution_count": 44,
   "metadata": {},
   "outputs": [
    {
     "data": {
      "text/plain": [
       "[{'score': 0.9937878251075745,\n",
       "  'token': 105675,\n",
       "  'token_str': 'ціни',\n",
       "  'sequence': 'З 1 червня ціни на електроенергію зростуть до 6,64 грн/кВт·год'},\n",
       " {'score': 0.003167645540088415,\n",
       "  'token': 122533,\n",
       "  'token_str': 'ціна',\n",
       "  'sequence': 'З 1 червня ціна на електроенергію зростуть до 6,64 грн/кВт·год'},\n",
       " {'score': 0.0014768281253054738,\n",
       "  'token': 45551,\n",
       "  'token_str': 'тариф',\n",
       "  'sequence': 'З 1 червня тариф на електроенергію зростуть до 6,64 грн/кВт·год'},\n",
       " {'score': 0.001023140619508922,\n",
       "  'token': 110706,\n",
       "  'token_str': 'витрати',\n",
       "  'sequence': 'З 1 червня витрати на електроенергію зростуть до 6,64 грн/кВт·год'},\n",
       " {'score': 0.00020023628894705325,\n",
       "  'token': 36785,\n",
       "  'token_str': 'цін',\n",
       "  'sequence': 'З 1 червня цін на електроенергію зростуть до 6,64 грн/кВт·год'}]"
      ]
     },
     "execution_count": 44,
     "metadata": {},
     "output_type": "execute_result"
    }
   ],
   "source": [
    "unmasker(\"З 1 червня <mask> на електроенергію зростуть до 6,64 грн/кВт·год\")"
   ]
  },
  {
   "cell_type": "code",
   "execution_count": 45,
   "metadata": {},
   "outputs": [
    {
     "name": "stderr",
     "output_type": "stream",
     "text": [
      "/Users/akh/Library/Python/3.9/lib/python/site-packages/tf_keras/src/initializers/initializers.py:121: UserWarning: The initializer RandomNormal is unseeded and being called multiple times, which will return identical values each time (even if the initializer is unseeded). Please update your code to provide a seed to the initializer, or avoid using the same initializer instance more than once.\n",
      "  warnings.warn(\n",
      "All PyTorch model weights were used when initializing TFT5ForConditionalGeneration.\n",
      "\n",
      "All the weights of TFT5ForConditionalGeneration were initialized from the PyTorch model.\n",
      "If your task is similar to the task the model of the checkpoint was trained on, you can already use TFT5ForConditionalGeneration for predictions without further training.\n",
      "Device set to use 0\n"
     ]
    },
    {
     "name": "stdout",
     "output_type": "stream",
     "text": [
      "Військово-морські сили ЗС України використовують штурмові катери Combat Boat 90 (CB90), які отримали від союзників, для доставки десантних груп, проведення ударних операцій і патрулювання акваторій.\n"
     ]
    }
   ],
   "source": [
    "from transformers import pipeline\n",
    "summarizer = pipeline(\"summarization\", model='ukr-models/uk-summarizer')\n",
    "\n",
    "text = \"У листопаді 2024 року стало відомо, що Військово-морські сили ЗС України використовують штурмові катери Combat Boat 90 (CB90), які отримали від союзників.Судна використовують спецпризначенці Головного управління розвідки Міноборони. Їх передали благодійники ще влітку цього року, і вони увійшли до складу морського центру «Вікінг» ГУР МО України.Combat Boat 90 призначені для доставки десантних груп, проведення ударних операцій, берегової охорони та патрулювання, а також підтримки спеціальних операцій. Також їх можна використовувати для розвідки, мінування акваторій.Що ж таке Combat Boat 90? Штурмовий швидкохідний катер Combat Boat 90 (CB90) або Stridsbåt 90H є розробкою компанії Dockstavarvet (зараз входить до SAAB), проєкт якого у 1988 році переміг на конкурсі. Два прототипи з номерами 801 і 802 були передані військовим на випробування в 1989 році. Після вдалого завершення тестувань і виправлення всіх виявлених проблем ВМС Швеції підписали замовлення на закупівлю 120 човнів у червні 1990 року. Спочатку CB90 розроблявся для потреб ВМС Швеції, однак надалі катер зацікавив інші країни, які в результаті придбали десятки Combat Boat 90.Шведський катер TpbS 200. Фото: Flickr/Lars Igelström Нові судна знадобилися шведському флоту для заміни старих катерів класу TpbS 200 (Transportbåt Större 200 або ще використовується скорочення 200-båt) у складі Королівських ВМС Швеції, які будувалися між 1957-1977 і були замінені на флоті протягом 1990-х років. Однак вони продовжують використовуватися шведськими національними силами безпеки (Home Guard), але їх також поступово виводять з експлуатації.Transportbåt Större 200 Фото: X/PennanSvardetВони можуть брати на борт до 40 бійців і розвивати швидкість до 20 вузлів. А окремі зразки озброювалися 20-мм гарматою Oerlikon. Окрім транспортування десанту, вони можуть здійснювати мінування та перевозити різноманітні вантажі.Два катери Transportbåt Större 200 Однією з основних вимог до катера Combat Boat 90 було забезпечення більшої швидкості ходу. Швеція має велику кількість островів та фіордів, тому забезпечення можливості швидкого перекидання військовослужбовців дуже важливе. Зокрема, для протидії ворожим десантним групам чи диверсантам, які можуть висадитися на островах чи узбережжі.Конструкція катера Combat Boat 90 виконана з алюмінієвих сплавів і забезпечує йому чудову мореплавність, високу швидкість, ефективність і безпеку в різних умовах експлуатації. Катер має довжину близько 16 метрів та повну водотоннажність 20,5 тонн.CB90 може взяти на борт до 21 десантника в повному бойовому спорядженні. Десант розміщуються в центральній частині катера в спеціальному відсіку під захищеною від уламків рульовою рубкою і висаджується на берег за допомогою трапу у носовій частині, що опускається і може пропускати по одному бійцю одночасно. Також військовослужбовці можуть залишати борт катера і через корму.верть кормової частини корпусу Combat Boat 90 є відкритою палубою позаду рубки. Завдяки цьому катер за потреби може використовуватися як плавучий командний пост із можливістю використання додаткового обладнання зв’язку або як артилерійський катер із можливим розташуванням озброєння на палубі.У кормовій частині катера розташований моторний відсік із двома дизельними двигунами Scania потужністю по 625 (модифікація H) або 675 (HS) к. с. та парою водометів Rolls-Royce Kamewa FF, які забезпечують максимальну швидкість руху до 74 км/год (40 вузлів) та різкі маневри навіть у мілководних прибережних водах. Максимальна дальність ходу становить близько 440 км при швидкості руху 20 вузлів (37 км/год).Завдяки малій осадці можливе маневрування на мілководді та висаджування десанту на непідготовлене узбережжя.\"\n",
    "summary = summarizer(text, max_length=300, min_length=50, length_penalty=2.0, num_beams=4, early_stopping=True)\n",
    "\n",
    "print(summary[0]['summary_text'])"
   ]
  }
 ],
 "metadata": {
  "kernelspec": {
   "display_name": "Python 3",
   "language": "python",
   "name": "python3"
  },
  "language_info": {
   "codemirror_mode": {
    "name": "ipython",
    "version": 3
   },
   "file_extension": ".py",
   "mimetype": "text/x-python",
   "name": "python",
   "nbconvert_exporter": "python",
   "pygments_lexer": "ipython3",
   "version": "3.9.6"
  }
 },
 "nbformat": 4,
 "nbformat_minor": 2
}
